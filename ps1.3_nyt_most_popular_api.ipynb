{
 "metadata": {
  "name": "",
  "signature": "sha256:c860ce3ba2b8c0db1d4450dee4b4c0abdea8ee3ac677814af2dce8ef7c35a6e4"
 },
 "nbformat": 3,
 "nbformat_minor": 0,
 "worksheets": [
  {
   "cells": [
    {
     "cell_type": "code",
     "collapsed": false,
     "input": [
      "# Your task is to process the saved file that represents the most popular (by view count)\n",
      "# articles in the last day, and return the following data:\n",
      "# - list of dictionaries, where the dictionary key is \"section\" and value is \"title\"\n",
      "# - list of URLs for all media entries with \"format\": \"Standard Thumbnail\"\n",
      "\n",
      "# All your changes should be in the article_overview function."
     ],
     "language": "python",
     "metadata": {},
     "outputs": []
    },
    {
     "cell_type": "code",
     "collapsed": false,
     "input": [
      "import json\n",
      "import codecs\n",
      "import requests\n",
      "import pprint\n"
     ],
     "language": "python",
     "metadata": {},
     "outputs": [],
     "prompt_number": 2
    },
    {
     "cell_type": "code",
     "collapsed": false,
     "input": [
      "MY_API_KEY = \"f85f861c3130ddea6ee0ae166e00e15a:9:71673690\"\n",
      "\n",
      "URL_MAIN = \"http://api.nytimes.com/svc/\"\n",
      "URL_POPULAR = URL_MAIN + \"mostpopular/v2/\"\n",
      "API_KEY = { \"popular\": MY_API_KEY,\n",
      "            \"article\": MY_API_KEY}\n",
      "\n",
      "API_KEY[\"popular\"]"
     ],
     "language": "python",
     "metadata": {},
     "outputs": [
      {
       "metadata": {},
       "output_type": "pyout",
       "prompt_number": 1,
       "text": [
        "'f85f861c3130ddea6ee0ae166e00e15a:9:71673690'"
       ]
      }
     ],
     "prompt_number": 1
    },
    {
     "cell_type": "code",
     "collapsed": false,
     "input": [
      "def get_from_file(kind, period):\n",
      "    filename = \"popular-{0}-{1}.json\".format(kind, period)\n",
      "    with open(filename, \"r\") as f:\n",
      "        return json.loads(f.read())"
     ],
     "language": "python",
     "metadata": {},
     "outputs": [],
     "prompt_number": 3
    },
    {
     "cell_type": "code",
     "collapsed": false,
     "input": [
      "def article_overview(kind, period):\n",
      "    data = get_from_file(kind, period)\n",
      "    titles = []\n",
      "    urls =[]\n",
      "    \n",
      "    for article in data['results']:\n",
      "        new_entry = {}\n",
      "        new_entry[article['section']] = article['title']\n",
      "        titles.append(new_entry)\n",
      "        \n",
      "        \n",
      "    return (titles, urls)"
     ],
     "language": "python",
     "metadata": {},
     "outputs": [],
     "prompt_number": 4
    },
    {
     "cell_type": "code",
     "collapsed": false,
     "input": [
      "def query_site(url, target, offset):\n",
      "    # This will set up the query with the API key and offset\n",
      "    # Web services often use offset paramter to return data in small chunks\n",
      "    # NYTimes returns 20 articles per request, if you want the next 20\n",
      "    # You have to provide the offset parameter\n",
      "    #print API_KEY[\"popular\"]\n",
      "    if API_KEY[\"popular\"] == \"\" or API_KEY[\"article\"] == \"\":\n",
      "        print \"You need to register for NYTimes Developer account to run this program.\"\n",
      "        print \"See Intructor notes for information\"\n",
      "        return False\n",
      "    params = {\"api-key\": API_KEY[target], \"offset\": offset}\n",
      "    r = requests.get(url, params = params)\n",
      "\n",
      "    if r.status_code == requests.codes.ok:\n",
      "        return r.json()\n",
      "    else:\n",
      "        r.raise_for_status()"
     ],
     "language": "python",
     "metadata": {},
     "outputs": [],
     "prompt_number": 5
    },
    {
     "cell_type": "code",
     "collapsed": false,
     "input": [
      "def get_popular(url, kind, days, section, offset):\n",
      "    # This function will construct the query according to the requirements of the site\n",
      "    # and return the data, or print an error message if called incorrectly\n",
      "    if days not in [1,7,30]:\n",
      "        print \"Time period can be 1,7, 30 days only\"\n",
      "        return False\n",
      "    if kind not in [\"viewed\", \"shared\", \"emailed\"]:\n",
      "        print \"kind can be only one of viewed/shared/emailed\"\n",
      "        return False\n",
      "\n",
      "    url = URL_POPULAR + \"most{0}/{1}/{2}.json\".format(kind, section, days)\n",
      "    print url\n",
      "    data = query_site(url, \"popular\", offset)\n",
      "\n",
      "    return data"
     ],
     "language": "python",
     "metadata": {},
     "outputs": [],
     "prompt_number": 6
    },
    {
     "cell_type": "code",
     "collapsed": false,
     "input": [
      "#example_url = \"http://api.nytimes.com/svc/mostpopular/v2/mostviewed/all-sections/1.json?api-key=f85f861c3130ddea6ee0ae166e00e15a:9:71673690\"\n",
      "data = get_popular('', kind=\"viewed\", days=1, section=\"all-sections\", offset=0)"
     ],
     "language": "python",
     "metadata": {},
     "outputs": [
      {
       "output_type": "stream",
       "stream": "stdout",
       "text": [
        "http://api.nytimes.com/svc/mostpopular/v2/mostviewed/all-sections/1.json\n"
       ]
      }
     ],
     "prompt_number": 7
    },
    {
     "cell_type": "code",
     "collapsed": false,
     "input": [
      "#pprint.pprint(data)"
     ],
     "language": "python",
     "metadata": {},
     "outputs": [],
     "prompt_number": 1
    },
    {
     "cell_type": "code",
     "collapsed": false,
     "input": [
      "len(data['results'])"
     ],
     "language": "python",
     "metadata": {},
     "outputs": [
      {
       "metadata": {},
       "output_type": "pyout",
       "prompt_number": 16,
       "text": [
        "20"
       ]
      }
     ],
     "prompt_number": 16
    },
    {
     "cell_type": "code",
     "collapsed": false,
     "input": [
      "def parse_data(data):\n",
      "    titles = []\n",
      "    urls =[]\n",
      "    \n",
      "    for article in data['results']:\n",
      "        new_entry = {}\n",
      "        new_entry[article['section']] = article['title'] # builds a key-value pair, e.g. {'Opinion': 'API's Rock!'}\n",
      "        titles.append(new_entry)\n",
      "    \n",
      "        for media in article['media']:\n",
      "            for meta_data in media['media-metadata']:\n",
      "                if meta_data['format'] == 'Standard Thumbnail':\n",
      "                    urls.append(meta_data['url'])\n",
      "            \n",
      "    return titles, urls"
     ],
     "language": "python",
     "metadata": {},
     "outputs": [],
     "prompt_number": 23
    },
    {
     "cell_type": "code",
     "collapsed": false,
     "input": [
      "pprint.pprint(parse_data(data))"
     ],
     "language": "python",
     "metadata": {},
     "outputs": [
      {
       "output_type": "stream",
       "stream": "stdout",
       "text": [
        "([{u'Opinion': u'The Myth of High-Protein Diets'},\n",
        "  {u'Opinion': u'Gov. Jindal&#8217;s Implosion'},\n",
        "  {u'U.S.': u'In Clinton Emails on Benghazi, a Rare Glimpse at Her Concerns'},\n",
        "  {u'Opinion': u'This Snookered Isle'},\n",
        "  {u'U.S.': u'Ted Cruz Becomes First Major Candidate to Announce Presidential Bid for 2016'},\n",
        "  {u'Opinion': u'Angelina Jolie Pitt: Diary of a Surgery'},\n",
        "  {u'World': u'Netanyahu Apologizes; White House Is Unmoved'},\n",
        "  {u'Opinion': u'Imagine President Ted Cruz'},\n",
        "  {u'Opinion': u'In College and Hiding From Scary Ideas'},\n",
        "  {u'Science': u'With New Nonstick Coating, the Wait, and Waste, Is Over'},\n",
        "  {u'N.Y. / Region': u'Thousands Join Brooklyn Father Mourning 7 With \\u2018Faces of Angels\\u2019'},\n",
        "  {u'Science': u'Hydrogen Bomb Physicist\\u2019s Book Runs Afoul of Energy Department'},\n",
        "  {u'The Upshot': u'Why Ted Cruz Is Such a Long Shot'},\n",
        "  {u'Business Day': u'Apple Opens Up to Praise New Book on Steve Jobs, and Criticize an Old One'},\n",
        "  {u'U.S.': u'Police Find No Evidence of Rape at\\xa0University of Virginia Fraternity'},\n",
        "  {u'Opinion': u'Why God Is a Moral Issue'},\n",
        "  {u'Business Day': u'For Clintons, a Hedge Fund in the Family'},\n",
        "  {u'Education': u'Anger and Activism Greet Plan to Shut Sweet Briar College'},\n",
        "  {u'U.S.': u'No Need to Run in Hawaii: The Lava Is Coming, but Very Slowly'},\n",
        "  {u'Arts': u'How David Geffen\\u2019s $100 Million Lincoln Center Gift Came Together'}],\n",
        " [u'http://graphics8.nytimes.com/images/2015/03/23/opinion/23ornish/23ornish-thumbStandard.jpg',\n",
        "  u'http://graphics8.nytimes.com/images/2015/03/23/opinion/23blowchart/23blowchart-thumbStandard.gif',\n",
        "  u'http://graphics8.nytimes.com/images/2014/11/01/opinion/blow-circular/blow-circular-thumbStandard-v2.png',\n",
        "  u'http://graphics8.nytimes.com/images/2015/03/23/us/23email-JP/23email-JP-thumbStandard.jpg',\n",
        "  u'http://graphics8.nytimes.com/images/2014/11/12/opinion/krugman-circular/krugman-circular-thumbStandard-v2.png',\n",
        "  u'http://graphics8.nytimes.com/images/2015/03/24/opinion/24AJ/24AJ-thumbStandard.jpg',\n",
        "  u'http://graphics8.nytimes.com/images/2015/03/23/opinion/23op-ed/23op-ed-thumbStandard.jpg',\n",
        "  u'http://graphics8.nytimes.com/images/2015/03/24/world/middleeast/24netanyahu/24israel-qa-web2-thumbStandard.jpg',\n",
        "  u'http://graphics8.nytimes.com/images/2015/03/24/world/middleeast/24netanyahu-promo/24israel-qa-web2-thumbStandard.jpg',\n",
        "  u'http://graphics8.nytimes.com/images/2015/03/24/opinion/24tue2web/24tue2web-thumbStandard.jpg',\n",
        "  u'http://graphics8.nytimes.com/images/2015/03/22/sunday-review/22shulevitz/22shulevitz-thumbStandard.jpg',\n",
        "  u'http://graphics8.nytimes.com/images/2015/03/22/sunday-review/22SHULEVITZjp/22SHULEVITZjp-thumbStandard.jpg',\n",
        "  u'http://graphics8.nytimes.com/images/2015/03/24/science/24ketchup_pour/24ketchup_pour-thumbStandard-v2.jpg',\n",
        "  u'http://graphics8.nytimes.com/images/2015/03/23/nyregion/23FUNERALweb2/23FUNERALweb2-thumbStandard.jpg',\n",
        "  u'http://graphics8.nytimes.com/images/2015/03/23/nyregion/FAMILY/FAMILY-thumbStandard.jpg',\n",
        "  u'http://graphics8.nytimes.com/images/2015/03/22/nyregion/20150323funeral-hp-slide-JC6O/20150323funeral-hp-slide-JC6O-thumbStandard-v3.jpg',\n",
        "  u'http://graphics8.nytimes.com/images/2015/03/24/science/24COVER1/24COVER1-thumbStandard-v2.jpg',\n",
        "  u'http://graphics8.nytimes.com/images/2015/03/24/science/24COVER2/24COVER2-thumbStandard.jpg',\n",
        "  u'http://graphics8.nytimes.com/images/2015/03/24/science/24BOMBJP1/24BOMBJP1-thumbStandard.jpg',\n",
        "  u'http://graphics8.nytimes.com/images/2015/03/24/science/24BOMBJP2/24BOMBJP2-thumbStandard.jpg',\n",
        "  u'http://graphics8.nytimes.com/images/2015/03/24/upshot/24up-cruz/24up-cruz-thumbStandard.jpg',\n",
        "  u'http://graphics8.nytimes.com/images/2015/03/23/business/jobsbook1/jobsbook1-thumbStandard.jpg',\n",
        "  u'http://graphics8.nytimes.com/images/2015/03/23/business/jobsbook2/jobsbook2-thumbStandard.jpg',\n",
        "  u'http://graphics8.nytimes.com/images/2015/03/23/business/jobsbook3/jobsbook3-thumbStandard.jpg',\n",
        "  u'http://graphics8.nytimes.com/images/2015/03/23/business/23jobsbook-jp/23jobsbook-jp-thumbStandard.jpg',\n",
        "  u'http://graphics8.nytimes.com/images/2015/03/24/us/24UVAWEB/24UVAWEB-thumbStandard.jpg',\n",
        "  u'http://graphics8.nytimes.com/images/2014/04/25/opinion/opinionator-pog-thestone/opinionator-pog-thestone-thumbStandard.gif',\n",
        "  u'http://graphics8.nytimes.com/images/2015/03/23/business/23db-hedge-jp/23db-hedge-jp-thumbStandard.jpg',\n",
        "  u'http://graphics8.nytimes.com/images/2015/03/23/us/23sweetbriar-JP/23sweetbriar-JP-thumbStandard.jpg',\n",
        "  u'http://graphics8.nytimes.com/images/2015/03/21/us/21sweetbrian-web01/21sweetbrian-web01-thumbStandard.jpg',\n",
        "  u'http://graphics8.nytimes.com/images/2015/03/21/us/21sweetbrian-web02/21sweetbrian-web02-thumbStandard.jpg',\n",
        "  u'http://graphics8.nytimes.com/images/2015/03/24/us/Lava/Lava-thumbStandard.jpg',\n",
        "  u'http://graphics8.nytimes.com/images/2015/03/24/us/LAVA2jp/LAVA2jp-thumbStandard.jpg',\n",
        "  u'http://graphics8.nytimes.com/images/2015/03/24/us/LAVAJp3/LAVAJp3-thumbStandard.jpg',\n",
        "  u'http://graphics8.nytimes.com/images/2015/03/05/arts/05HALL/05HALL-thumbStandard-v2.jpg'])\n"
       ]
      }
     ],
     "prompt_number": 24
    },
    {
     "cell_type": "code",
     "collapsed": false,
     "input": [
      "def save_file(kind, period):\n",
      "    # This will process all results, by calling the API repeatedly with supplied offset value,\n",
      "    # combine the data and then write all results in a file.\n",
      "    data = get_popular(URL_POPULAR, \"viewed\", 1)\n",
      "    num_results = data[\"num_results\"]\n",
      "    full_data = []\n",
      "    with codecs.open(\"popular-{0}-{1}-full.json\".format(kind, period), encoding='utf-8', mode='w') as v:\n",
      "        for offset in range(0, num_results, 20):        \n",
      "            data = get_popular(URL_POPULAR, kind, period, offset=offset)\n",
      "            full_data += data[\"results\"]\n",
      "        \n",
      "        v.write(json.dumps(full_data, indent=2))"
     ],
     "language": "python",
     "metadata": {},
     "outputs": [],
     "prompt_number": 7
    },
    {
     "cell_type": "code",
     "collapsed": false,
     "input": [
      "def test():\n",
      "    titles, urls = article_overview(\"viewed\", 1)\n",
      "    assert len(titles) == 20\n",
      "    assert len(urls) == 30\n",
      "    assert titles[2] == {'Opinion': 'Professors, We Need You!'}\n",
      "    assert urls[20] == 'http://graphics8.nytimes.com/images/2014/02/17/sports/ICEDANCE/ICEDANCE-thumbStandard.jpg'"
     ],
     "language": "python",
     "metadata": {},
     "outputs": [],
     "prompt_number": 8
    },
    {
     "cell_type": "code",
     "collapsed": false,
     "input": [
      "#if __name__ == \"__main__\":\n",
      "#    test()"
     ],
     "language": "python",
     "metadata": {},
     "outputs": [],
     "prompt_number": 10
    },
    {
     "cell_type": "code",
     "collapsed": false,
     "input": [],
     "language": "python",
     "metadata": {},
     "outputs": []
    }
   ],
   "metadata": {}
  }
 ]
}