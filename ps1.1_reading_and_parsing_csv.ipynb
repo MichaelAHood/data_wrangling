{
 "metadata": {
  "name": "",
  "signature": "sha256:827d8472a42e0193cda467a7573e18c56ac3108e5b67f46b486b14d6df037256"
 },
 "nbformat": 3,
 "nbformat_minor": 0,
 "worksheets": [
  {
   "cells": [
    {
     "cell_type": "code",
     "collapsed": false,
     "input": [
      "###################\n",
      "# The object of this exercise is to read in the csv file for the meteorological station and extract the data\n",
      "# parse_file should return the name of the station and a data struct that is a list of lists\n",
      "# that do not contain the descriptive line or the column headers\n",
      "\n",
      "\n",
      "import csv\n",
      "import os"
     ],
     "language": "python",
     "metadata": {},
     "outputs": [],
     "prompt_number": 2
    },
    {
     "cell_type": "code",
     "collapsed": false,
     "input": [
      "DATADIR = \"\"\n",
      "DATAFILE = \"745090.csv\""
     ],
     "language": "python",
     "metadata": {},
     "outputs": [],
     "prompt_number": 3
    },
    {
     "cell_type": "code",
     "collapsed": false,
     "input": [
      "def parse_file(datafile):\n",
      "    name = \"\"\n",
      "    data = []\n",
      "    with open(datafile,'rb') as f:\n",
      "        reader_obj = csv.reader(f, delimiter=',')\n",
      "        for row in reader_obj:\n",
      "            if reader_obj.line_num == 1: # this reads the station name and assigns to the variable \"name\"\n",
      "                name = row[1]\n",
      "                continue # prevents the file documentation from being read as a data row\n",
      "            if reader_obj.line_num == 2:\n",
      "                pass # prevents the column headers from being read into the data struct\n",
      "            else:\n",
      "                data.append(row) # \"data\" is a data struct that is a list of lists\n",
      "    \n",
      "#    print name\n",
      "#    print data\n",
      "\n",
      "    return (name, data)"
     ],
     "language": "python",
     "metadata": {},
     "outputs": [],
     "prompt_number": 4
    },
    {
     "cell_type": "code",
     "collapsed": false,
     "input": [
      "def test():\n",
      "    \n",
      "    name, data = parse_file(DATAFILE)\n",
      "\n",
      "    assert name == \"MOUNTAIN VIEW MOFFETT FLD NAS\"\n",
      "    assert data[0][1] == \"01:00\"\n",
      "    assert data[2][0] == \"01/01/2005\"\n",
      "    assert data[2][5] == \"2\""
     ],
     "language": "python",
     "metadata": {},
     "outputs": [],
     "prompt_number": 12
    },
    {
     "cell_type": "code",
     "collapsed": false,
     "input": [
      "if __name__ == \"__main__\":\n",
      "    test()"
     ],
     "language": "python",
     "metadata": {},
     "outputs": [],
     "prompt_number": 13
    },
    {
     "cell_type": "code",
     "collapsed": false,
     "input": [
      "#########\n",
      "# Run the program and see the output\n",
      "\n",
      "#print parse_file(DATAFILE)"
     ],
     "language": "python",
     "metadata": {},
     "outputs": [],
     "prompt_number": 9
    },
    {
     "cell_type": "code",
     "collapsed": false,
     "input": [],
     "language": "python",
     "metadata": {},
     "outputs": []
    }
   ],
   "metadata": {}
  }
 ]
}