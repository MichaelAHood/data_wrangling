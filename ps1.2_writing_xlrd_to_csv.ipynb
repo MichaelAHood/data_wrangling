{
 "metadata": {
  "name": "",
  "signature": "sha256:30113d638adfe04386718e945b82e53dfe7028d90d5ac8107b9c180b886801b9"
 },
 "nbformat": 3,
 "nbformat_minor": 0,
 "worksheets": [
  {
   "cells": [
    {
     "cell_type": "code",
     "collapsed": false,
     "input": [
      "# From the \"2013_ERCOT_Hourly_Load_Data.xls\" extract the max load value, corresponding datetime, and write the ouput to a csv file \n",
      "\n",
      "import xlrd\n",
      "import csv\n",
      "import pprint"
     ],
     "language": "python",
     "metadata": {},
     "outputs": [],
     "prompt_number": 2
    },
    {
     "cell_type": "code",
     "collapsed": false,
     "input": [
      "datafile = \"2013_ERCOT_Hourly_Load_Data.xls\"\n",
      "outfile = \"2013_Max_Loads.csv\""
     ],
     "language": "python",
     "metadata": {},
     "outputs": [],
     "prompt_number": 3
    },
    {
     "cell_type": "code",
     "collapsed": false,
     "input": [
      "def parse_file(datafile):\n",
      "    workbook = xlrd.open_workbook(datafile)\n",
      "    sheet = workbook.sheet_by_index(0)\n",
      "    \n",
      "    region_names = sheet.row_slice(0, start_colx=1, end_colx=sheet.ncols - 1)\n",
      "    # use sheet.ncols - 1 to take out the last column because ERCOT is not considered a region of itnerest?    \n",
      "    load_data = [[sheet.cell_value(row, col) for row in range(1, sheet.nrows)] \n",
      "                 for col in range(1, sheet.ncols - 1)]\n",
      "    \n",
      "    data = {}\n",
      "        \n",
      "    for i, region in enumerate(load_data):\n",
      "        max_load = max(region) # obtains max load value for the give region column\n",
      "        index = region.index(max_load)+1 # gets index of max laod value\n",
      "        excel_datetime = sheet.cell_value(index, 0) # gets excel datetime at index of max load value\n",
      "        time = xlrd.xldate_as_tuple(excel_datetime, workbook.datemode)# converts datetime to tuple (Yr, Mo, Day, Hr, Min, Sec) \n",
      "        print time\n",
      "        data[region_names[i]] = {'Max Load': max_load,\n",
      "                           'Year': time[0],\n",
      "                           'Month': time[1],\n",
      "                           'Day': time[2],\n",
      "                           'Hour': time[3]\n",
      "                          }\n",
      "    #print data\n",
      "       \n",
      "    return data, region_names"
     ],
     "language": "python",
     "metadata": {},
     "outputs": [],
     "prompt_number": 48
    },
    {
     "cell_type": "code",
     "collapsed": false,
     "input": [
      "def save_file(data, filename):\n",
      "    \n",
      "    field_names = [\"Station\", \"Year\", \"Month\", \"Day\", \"Hour\", \"Max Load\"]\n",
      "    \n",
      "    with open(filename, 'w') as csv_out:\n",
      "        writer = csv.DictWriter(csv_out, fieldnames=field_names, delimiter='|')\n",
      "        writer.writeheader()\n",
      "        for region_info in data:\n",
      "            #print region_info.value\n",
      "            data[region_info]['Station'] = region_info.value\n",
      "            writer.writerow(data[region_info])"
     ],
     "language": "python",
     "metadata": {},
     "outputs": [],
     "prompt_number": 46
    },
    {
     "cell_type": "code",
     "collapsed": false,
     "input": [
      "data, region_names = parse_file(datafile)"
     ],
     "language": "python",
     "metadata": {},
     "outputs": [
      {
       "output_type": "stream",
       "stream": "stdout",
       "text": [
        "(2013, 8, 13, 17, 0, 0)\n",
        "(2013, 8, 5, 17, 0, 0)\n",
        "(2013, 6, 26, 17, 0, 0)\n",
        "(2013, 8, 7, 17, 0, 0)\n",
        "(2013, 8, 7, 18, 0, 0)\n",
        "(2013, 8, 8, 16, 0, 0)\n",
        "(2013, 8, 8, 18, 0, 0)\n",
        "(2013, 8, 7, 17, 0, 0)\n"
       ]
      }
     ],
     "prompt_number": 49
    },
    {
     "cell_type": "code",
     "collapsed": false,
     "input": [
      "#for region_info in data:\n",
      "#    data[region_info]['Station'] = \"Station\"\n",
      "#    pprint.pprint(data[region_info])\n"
     ],
     "language": "python",
     "metadata": {},
     "outputs": [],
     "prompt_number": 21
    },
    {
     "cell_type": "code",
     "collapsed": false,
     "input": [
      "save_file(data, \"output.csv\")"
     ],
     "language": "python",
     "metadata": {},
     "outputs": [
      {
       "output_type": "stream",
       "stream": "stdout",
       "text": [
        "SOUTH_C\n",
        "COAST\n",
        "FAR_WEST\n",
        "NORTH\n",
        "WEST\n",
        "NORTH_C\n",
        "SOUTHERN\n",
        "EAST\n"
       ]
      }
     ],
     "prompt_number": 42
    },
    {
     "cell_type": "code",
     "collapsed": false,
     "input": [
      "cell = region_names[0].value "
     ],
     "language": "python",
     "metadata": {},
     "outputs": [],
     "prompt_number": 38
    },
    {
     "cell_type": "code",
     "collapsed": false,
     "input": [
      "cell[0:2]"
     ],
     "language": "python",
     "metadata": {},
     "outputs": [
      {
       "metadata": {},
       "output_type": "pyout",
       "prompt_number": 39,
       "text": [
        "u'CO'"
       ]
      }
     ],
     "prompt_number": 39
    },
    {
     "cell_type": "code",
     "collapsed": false,
     "input": [],
     "language": "python",
     "metadata": {},
     "outputs": []
    }
   ],
   "metadata": {}
  }
 ]
}