{
 "metadata": {
  "name": "",
  "signature": "sha256:491330ebab3e08024259ab640326cbf6ef191a7d76eaa93118fed4bd66900227"
 },
 "nbformat": 3,
 "nbformat_minor": 0,
 "worksheets": [
  {
   "cells": [
    {
     "cell_type": "code",
     "collapsed": false,
     "input": [
      "# my first use of the xlrd module to read and manipulate MS excel docs in python\n",
      "# done as part of my Data Wrangling course\n",
      "# read the datafile and find the max, min, date of each, and the average value of the COAST region\n",
      "\n",
      "# the date of min and max values should be represented as a tuple: (Year, Month, Day, Hour, Min, Sec)\n",
      "\n",
      "import xlrd\n",
      "#from zipfile import ZipFile"
     ],
     "language": "python",
     "metadata": {},
     "outputs": [],
     "prompt_number": 4
    },
    {
     "cell_type": "code",
     "collapsed": false,
     "input": [
      "datafile = \"2013_ERCOT_Hourly_Load_Data.xls\""
     ],
     "language": "python",
     "metadata": {},
     "outputs": [],
     "prompt_number": 5
    },
    {
     "cell_type": "code",
     "collapsed": false,
     "input": [
      "#def open_zip(datafile):\n",
      "#    with ZipFile('{0}.zip'.format(datafile), 'r') as myzip:\n",
      "#        myzip.extractall()"
     ],
     "language": "python",
     "metadata": {},
     "outputs": [],
     "prompt_number": 84
    },
    {
     "cell_type": "code",
     "collapsed": false,
     "input": [
      "def parse_file(datafile):\n",
      "    \n",
      "    \n",
      "    workbook = xlrd.open_workbook(datafile)\n",
      "     \n",
      "    sheet = workbook.sheet_by_index(0)\n",
      "\n",
      "    sheet_data = [[sheet.cell_value(row, col) for row in range(sheet.nrows)] for col in range(sheet.ncols)]    \n",
      "        \n",
      "    coast_data = sheet_data[1] # drop the column header\n",
      "    \n",
      "    #data = sheet.col_values(1, start_rowx=1, end_rowx=sheet.nrows) # pull out the data for column of interest\n",
      "    \n",
      "    coast_data.remove('COAST')\n",
      "    \n",
      "    max_value = max(coast_data)\n",
      "    min_value = min(coast_data)\n",
      "    \n",
      "    print coast_data[:10]\n",
      "    print max_value\n",
      "    \n",
      "    max_val_index = coast_data.index(max_value) + 1 # find the row index of max and min values\n",
      "    min_val_index = coast_data.index(min_value) + 1\n",
      "    \n",
      "    max_val_time = sheet.cell_value(max_val_index, 0) # value is in excel fp time\n",
      "    min_val_time = sheet.cell_value(min_val_index, 0) # value is in excel fp time\n",
      "    \n",
      "    max_time = xlrd.xldate_as_tuple(max_val_time, workbook.datemode)    \n",
      "    min_time = xlrd.xldate_as_tuple(min_val_time, workbook.datemode)\n",
      "    \n",
      "    average_value = sum(coast_data) / (sheet.nrows - 1) # the minus one is to discount the header row\n",
      "         \n",
      "    # initialize this data structure.       \n",
      "    data = {}\n",
      "    \n",
      "    data['maxtime'] = max_time\n",
      "    data['maxvalue'] = max_value \n",
      "    data['mintime'] = min_time \n",
      "    data['minvalue'] = min_value \n",
      "    data['avgcoast'] = average_value \n",
      "\n",
      "    return data"
     ],
     "language": "python",
     "metadata": {},
     "outputs": [],
     "prompt_number": 17
    },
    {
     "cell_type": "code",
     "collapsed": false,
     "input": [
      "data = parse_file(datafile)\n",
      "import pprint\n",
      "pprint.pprint(data)"
     ],
     "language": "python",
     "metadata": {},
     "outputs": [
      {
       "output_type": "stream",
       "stream": "stdout",
       "text": [
        "[7606.263544000012, 7388.082713999988, 7178.867877999996, 7038.822581000004, 6990.8579400000035, 7049.790188999973, 7176.995343999993, 7222.6800619999985, 7313.827285000014, 7676.26308800002]\n",
        "18779.02551\n",
        "{'avgcoast': 10976.933460679784,\n",
        " 'maxtime': (2013, 8, 13, 17, 0, 0),\n",
        " 'maxvalue': 18779.025510000003,\n",
        " 'mintime': (2013, 2, 3, 4, 0, 0),\n",
        " 'minvalue': 6602.113898999982}\n"
       ]
      }
     ],
     "prompt_number": 18
    },
    {
     "cell_type": "code",
     "collapsed": false,
     "input": [
      "# run a simple test to ensure that this is giving the output we need\n",
      "\n",
      "def test():\n",
      "    \n",
      "    assert data['maxtime'] == (2013, 8, 13, 17, 0, 0)\n",
      "    assert round(data['maxvalue'], 10) == round(18779.02551, 10)"
     ],
     "language": "python",
     "metadata": {},
     "outputs": [],
     "prompt_number": 19
    },
    {
     "cell_type": "code",
     "collapsed": false,
     "input": [
      "test()"
     ],
     "language": "python",
     "metadata": {},
     "outputs": [],
     "prompt_number": 20
    },
    {
     "cell_type": "code",
     "collapsed": false,
     "input": [],
     "language": "python",
     "metadata": {},
     "outputs": []
    }
   ],
   "metadata": {}
  }
 ]
}